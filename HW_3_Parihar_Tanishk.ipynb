{
 "cells": [
  {
   "cell_type": "markdown",
   "metadata": {},
   "source": [
    "<h1><center>IST 707: Data Analytics</center>\n",
    "<center>HW3: NBC, KNN, SVM, and Ensemble Learning</center></h1>"
   ]
  },
  {
   "cell_type": "markdown",
   "metadata": {},
   "source": [
    "<h2><left>Name: Tanishk Parihar</left>\n",
    "<br><left>Date of Submission: 04/05/2020</left></h2>"
   ]
  },
  {
   "cell_type": "markdown",
   "metadata": {},
   "source": [
    "## Problem Statement\n",
    "\n",
    "In this homework assignment, we have to make use of multiple machine learning algorithms, including naive\n",
    "Bayes classifier, K Nearest Neighbor, Support Vector Machine (with both linear and non-linear kernel\n",
    "functions), Random Forest and Gradient Boosting Classifier to build a disease diagnosis model. It is a binary\n",
    "classification problem to predict whether or not a patient has a certain unspecified disease.\n"
   ]
  },
  {
   "cell_type": "markdown",
   "metadata": {},
   "source": [
    "## Dataset\n",
    "**Attributes’ information about the dataset:**<br>\n",
    "• Age: in years<br>\n",
    "• Gender: male/female<br>\n",
    "• Height: in unit of cm<br>\n",
    "• Weight: in unit of kg<br>\n",
    "• Low Blood Pressure: lower bound of blood pressure measurement<br>\n",
    "• High Blood Pressure: higher bound of blood pressure measurement<br>\n",
    "• Cholesterol: three cholesteral levels<br>\n",
    "• Glucose: three glucose levels<br>\n",
    "• Smoke: 1/0 regarding if the patient smokes<br>\n",
    "• Alcohol: 1/0 regarding if the patient drinks alcohol<br>\n",
    "• Exercise: 1/0 regarding if the patient exercises regularly<br>\n",
    "***• Disease: The binary target variable. Does the patient have the disease?***<br>"
   ]
  },
  {
   "cell_type": "code",
   "execution_count": 64,
   "metadata": {
    "colab": {},
    "colab_type": "code",
    "id": "Aur4YsD10YSe"
   },
   "outputs": [],
   "source": [
    "#Importing all required libraries\n",
    "import numpy as np\n",
    "import pandas as pd \n",
    "import matplotlib.pyplot as plt\n",
    "import seaborn as sns\n",
    "from sklearn.model_selection import train_test_split\n",
    "from sklearn.preprocessing import StandardScaler,Normalizer\n",
    "from sklearn.metrics import accuracy_score,recall_score,classification_report,precision_score,roc_auc_score,f1_score,roc_curve\n",
    "from sklearn.model_selection import GridSearchCV,RandomizedSearchCV\n",
    "from sklearn.svm import SVC\n",
    "from collections import OrderedDict\n",
    "from sklearn.svm import LinearSVC\n",
    "from sklearn.ensemble import RandomForestClassifier,GradientBoostingClassifier\n",
    "from sklearn.neighbors import KNeighborsClassifier\n",
    "from sklearn.naive_bayes import MultinomialNB,GaussianNB"
   ]
  },
  {
   "cell_type": "markdown",
   "metadata": {},
   "source": [
    "## Data Preparation"
   ]
  },
  {
   "cell_type": "code",
   "execution_count": 2,
   "metadata": {
    "colab": {},
    "colab_type": "code",
    "id": "PBhkKI4W0YSj"
   },
   "outputs": [],
   "source": [
    "#Reads both the data as we will be cleaning both the data simultaneously\n",
    "data=pd.read_csv(\"Disease Prediction Training.csv\")\n",
    "test=pd.read_csv(\"Disease Prediction Testing.csv\")"
   ]
  },
  {
   "cell_type": "code",
   "execution_count": 3,
   "metadata": {
    "scrolled": true
   },
   "outputs": [],
   "source": [
    "#Duplicate rows will be dropped as it will only create noise in our data\n",
    "data.drop_duplicates(keep='first',inplace=True)"
   ]
  },
  {
   "cell_type": "code",
   "execution_count": 4,
   "metadata": {
    "colab": {
     "base_uri": "https://localhost:8080/",
     "height": 235
    },
    "colab_type": "code",
    "id": "ug078Z6U0YSp",
    "outputId": "9a6aa3e9-24cc-4f60-99bd-f6704943d4d7",
    "scrolled": true
   },
   "outputs": [
    {
     "data": {
      "text/plain": [
       "0"
      ]
     },
     "execution_count": 4,
     "metadata": {},
     "output_type": "execute_result"
    }
   ],
   "source": [
    "# We check for any null values in our dataset\n",
    "data.isna().sum().sum()"
   ]
  },
  {
   "cell_type": "code",
   "execution_count": 5,
   "metadata": {},
   "outputs": [
    {
     "data": {
      "text/plain": [
       "0"
      ]
     },
     "execution_count": 5,
     "metadata": {},
     "output_type": "execute_result"
    }
   ],
   "source": [
    "#We do the same for the test set\n",
    "test.isna().sum().sum()"
   ]
  },
  {
   "cell_type": "code",
   "execution_count": 6,
   "metadata": {
    "colab": {
     "base_uri": "https://localhost:8080/",
     "height": 67
    },
    "colab_type": "code",
    "id": "BTlx2T-q0YSt",
    "outputId": "59534bf2-dea7-4f73-ef3a-c37cd0902db2"
   },
   "outputs": [
    {
     "data": {
      "text/plain": [
       "1    24076\n",
       "0    23172\n",
       "Name: Disease, dtype: int64"
      ]
     },
     "execution_count": 6,
     "metadata": {},
     "output_type": "execute_result"
    }
   ],
   "source": [
    "# The value counts for the two classes to check if there is an imbalance  \n",
    "data.Disease.value_counts()"
   ]
  },
  {
   "cell_type": "markdown",
   "metadata": {},
   "source": [
    "**First we will create a BMI column, which I believe can help us to tell if a person's healthy or not, having a high BMI means a person is obese which increases the chance of person suffering from the disease. So, I think it will significantly help us in classifying our target. We can later check if this variable is helpful in our classification task by printing the feature importance of the tree algorithms.**"
   ]
  },
  {
   "cell_type": "markdown",
   "metadata": {},
   "source": [
    "**BMI is calculated using weight and height, so we will first check if there is any outlier data in both the columns.**"
   ]
  },
  {
   "cell_type": "code",
   "execution_count": 7,
   "metadata": {
    "colab": {
     "base_uri": "https://localhost:8080/",
     "height": 265
    },
    "colab_type": "code",
    "id": "gJp1gieX0YS2",
    "outputId": "925fe158-839f-4afd-dfa9-6975d569f5b1",
    "scrolled": true
   },
   "outputs": [
    {
     "name": "stdout",
     "output_type": "stream",
     "text": [
      "We can clearly see that our Height data contains outlier because our data is highly skewed.\n"
     ]
    },
    {
     "data": {
      "image/png": "[encoded data removed]",
      "text/plain": [
       "<matplotlib.figure.Figure at 0x2189e697860>"
      ]
     },
     "metadata": {},
     "output_type": "display_data"
    }
   ],
   "source": [
    "fig,ax=plt.subplots(1,2,figsize=(20,5))\n",
    "ax[0].hist(data.Height);\n",
    "ax[0].set_title(\"Histogram plot of Height\")\n",
    "ax[0].set_xlabel(\"Height\")\n",
    "ax[0].set_ylabel(\"Count\")\n",
    "ax[1].set_ylabel(\"Height\")\n",
    "ax[1].set_title(\"Boxplot of Height\")\n",
    "ax[1].boxplot(data.Height);\n",
    "print(\"We can clearly see that our Height data contains outlier because our data is highly skewed.\")"
   ]
  },
  {
   "cell_type": "markdown",
   "metadata": {},
   "source": [
    "**It is very unlikely we will see people who have a height less than 120 cm given that the age of people in our data is more 20 years. So, we can clip the lower limit to 120 cm. The higher values of the data seems fine.**"
   ]
  },
  {
   "cell_type": "code",
   "execution_count": 8,
   "metadata": {
    "colab": {},
    "colab_type": "code",
    "id": "h8gCRy4R0YS7",
    "scrolled": true
   },
   "outputs": [],
   "source": [
    "data.Height=data[\"Height\"].clip(lower=120)\n",
    "test.Height=test[\"Height\"].clip(lower=120)"
   ]
  },
  {
   "cell_type": "code",
   "execution_count": 9,
   "metadata": {},
   "outputs": [
    {
     "name": "stdout",
     "output_type": "stream",
     "text": [
      "We can clearly see that our Weight data contains outlier because our data is highly skewed.\n"
     ]
    },
    {
     "data": {
      "image/png": "[encoded data removed]",
      "text/plain": [
       "<matplotlib.figure.Figure at 0x2189ee9cc50>"
      ]
     },
     "metadata": {},
     "output_type": "display_data"
    }
   ],
   "source": [
    "fig,ax=plt.subplots(1,2,figsize=(20,5))\n",
    "ax[0].hist(data.Weight);\n",
    "ax[0].set_title(\"Histogram plot of Weight\")\n",
    "ax[0].set_xlabel(\"Weight\")\n",
    "ax[0].set_ylabel(\"Count\")\n",
    "ax[1].set_ylabel(\"Weight\")\n",
    "ax[1].set_title(\"Boxplot of Weight\")\n",
    "ax[1].boxplot(data.Weight);\n",
    "print(\"We can clearly see that our Weight data contains outlier because our data is highly skewed.\")"
   ]
  },
  {
   "cell_type": "markdown",
   "metadata": {},
   "source": [
    "**It is very unlikely we will see people who having a weight less than 40 kg given that the age of people given that the weight is not less than 120cm. So, we can clip the lower limit to 40 kg. Here also the higher values of the data seems fine.**"
   ]
  },
  {
   "cell_type": "code",
   "execution_count": 10,
   "metadata": {
    "colab": {},
    "colab_type": "code",
    "id": "BTpx4bNN0YTA"
   },
   "outputs": [],
   "source": [
    "data.Weight=data.Weight.clip(lower=40)\n",
    "test.Weight=test.Weight.clip(lower=40)"
   ]
  },
  {
   "cell_type": "markdown",
   "metadata": {},
   "source": [
    "**Now, we have removed the outliers, we can calculate the BMI. After calculating the BMI, again we will check for outliers and remove those rows which have a really high or really low BMI values because this rows can be noise in our data which needs to be removed.**"
   ]
  },
  {
   "cell_type": "code",
   "execution_count": 11,
   "metadata": {
    "colab": {},
    "colab_type": "code",
    "id": "0VYjAsu90YSx"
   },
   "outputs": [],
   "source": [
    "data[\"BMI\"]=data[\"Weight\"]/((data.Height/100)**2)\n",
    "test[\"BMI\"]=test[\"Weight\"]/((test.Height/100)**2)"
   ]
  },
  {
   "cell_type": "markdown",
   "metadata": {},
   "source": [
    "**For the lower limit of BMI we have chosen 9 and higher limit is chosen as 80. Because, most of the BMI charts have this range of BMI.**"
   ]
  },
  {
   "cell_type": "code",
   "execution_count": 12,
   "metadata": {
    "scrolled": true
   },
   "outputs": [
    {
     "data": {
      "text/html": [
       "<div>\n",
       "<style scoped>\n",
       "    .dataframe tbody tr th:only-of-type {\n",
       "        vertical-align: middle;\n",
       "    }\n",
       "\n",
       "    .dataframe tbody tr th {\n",
       "        vertical-align: top;\n",
       "    }\n",
       "\n",
       "    .dataframe thead th {\n",
       "        text-align: right;\n",
       "    }\n",
       "</style>\n",
       "<table border=\"1\" class=\"dataframe\">\n",
       "  <thead>\n",
       "    <tr style=\"text-align: right;\">\n",
       "      <th></th>\n",
       "      <th>Age</th>\n",
       "      <th>Gender</th>\n",
       "      <th>Height</th>\n",
       "      <th>Weight</th>\n",
       "      <th>High Blood Pressure</th>\n",
       "      <th>Low Blood Pressure</th>\n",
       "      <th>Cholesterol</th>\n",
       "      <th>Glucose</th>\n",
       "      <th>Smoke</th>\n",
       "      <th>Alcohol</th>\n",
       "      <th>Exercise</th>\n",
       "      <th>Disease</th>\n",
       "      <th>BMI</th>\n",
       "    </tr>\n",
       "  </thead>\n",
       "  <tbody>\n",
       "    <tr>\n",
       "      <th>25215</th>\n",
       "      <td>52</td>\n",
       "      <td>female</td>\n",
       "      <td>120</td>\n",
       "      <td>156.0</td>\n",
       "      <td>140</td>\n",
       "      <td>90</td>\n",
       "      <td>normal</td>\n",
       "      <td>normal</td>\n",
       "      <td>0</td>\n",
       "      <td>0</td>\n",
       "      <td>1</td>\n",
       "      <td>0</td>\n",
       "      <td>108.333333</td>\n",
       "    </tr>\n",
       "    <tr>\n",
       "      <th>29398</th>\n",
       "      <td>53</td>\n",
       "      <td>female</td>\n",
       "      <td>120</td>\n",
       "      <td>168.0</td>\n",
       "      <td>120</td>\n",
       "      <td>80</td>\n",
       "      <td>normal</td>\n",
       "      <td>normal</td>\n",
       "      <td>1</td>\n",
       "      <td>0</td>\n",
       "      <td>1</td>\n",
       "      <td>1</td>\n",
       "      <td>116.666667</td>\n",
       "    </tr>\n",
       "    <tr>\n",
       "      <th>29452</th>\n",
       "      <td>47</td>\n",
       "      <td>female</td>\n",
       "      <td>125</td>\n",
       "      <td>167.0</td>\n",
       "      <td>180</td>\n",
       "      <td>90</td>\n",
       "      <td>normal</td>\n",
       "      <td>high</td>\n",
       "      <td>0</td>\n",
       "      <td>0</td>\n",
       "      <td>1</td>\n",
       "      <td>1</td>\n",
       "      <td>106.880000</td>\n",
       "    </tr>\n",
       "    <tr>\n",
       "      <th>38669</th>\n",
       "      <td>57</td>\n",
       "      <td>female</td>\n",
       "      <td>122</td>\n",
       "      <td>161.0</td>\n",
       "      <td>120</td>\n",
       "      <td>80</td>\n",
       "      <td>normal</td>\n",
       "      <td>normal</td>\n",
       "      <td>0</td>\n",
       "      <td>0</td>\n",
       "      <td>1</td>\n",
       "      <td>1</td>\n",
       "      <td>108.169847</td>\n",
       "    </tr>\n",
       "    <tr>\n",
       "      <th>46982</th>\n",
       "      <td>54</td>\n",
       "      <td>female</td>\n",
       "      <td>120</td>\n",
       "      <td>159.0</td>\n",
       "      <td>200</td>\n",
       "      <td>100</td>\n",
       "      <td>too high</td>\n",
       "      <td>normal</td>\n",
       "      <td>0</td>\n",
       "      <td>0</td>\n",
       "      <td>0</td>\n",
       "      <td>1</td>\n",
       "      <td>110.416667</td>\n",
       "    </tr>\n",
       "  </tbody>\n",
       "</table>\n",
       "</div>"
      ],
      "text/plain": [
       "       Age  Gender  Height  Weight  High Blood Pressure  Low Blood Pressure  \\\n",
       "25215   52  female     120   156.0                  140                  90   \n",
       "29398   53  female     120   168.0                  120                  80   \n",
       "29452   47  female     125   167.0                  180                  90   \n",
       "38669   57  female     122   161.0                  120                  80   \n",
       "46982   54  female     120   159.0                  200                 100   \n",
       "\n",
       "      Cholesterol Glucose  Smoke  Alcohol  Exercise  Disease         BMI  \n",
       "25215      normal  normal      0        0         1        0  108.333333  \n",
       "29398      normal  normal      1        0         1        1  116.666667  \n",
       "29452      normal    high      0        0         1        1  106.880000  \n",
       "38669      normal  normal      0        0         1        1  108.169847  \n",
       "46982    too high  normal      0        0         0        1  110.416667  "
      ]
     },
     "execution_count": 12,
     "metadata": {},
     "output_type": "execute_result"
    }
   ],
   "source": [
    "data[(data[\"BMI\"]<9) | (data[\"BMI\"]>80)]"
   ]
  },
  {
   "cell_type": "code",
   "execution_count": 13,
   "metadata": {
    "colab": {},
    "colab_type": "code",
    "id": "tXDqM_pp0YTD",
    "scrolled": true
   },
   "outputs": [],
   "source": [
    "data.drop(data[(data[\"BMI\"]<9) | (data[\"BMI\"]>80)].index,inplace=True)"
   ]
  },
  {
   "cell_type": "markdown",
   "metadata": {},
   "source": [
    "**Now, we check Low Blood Pressure and High Blood Pressure column if there are any outliers in the data.**"
   ]
  },
  {
   "cell_type": "code",
   "execution_count": 14,
   "metadata": {
    "colab": {
     "base_uri": "https://localhost:8080/",
     "height": 296
    },
    "colab_type": "code",
    "id": "hAjmynmz0YTG",
    "outputId": "b7d441f0-e2f5-4be7-c50e-c1e2b5f3e96d"
   },
   "outputs": [
    {
     "name": "stdout",
     "output_type": "stream",
     "text": [
      "We can clearly see that our Low Blood Pressure data contains outlier because our data is very highly skewed\n"
     ]
    },
    {
     "data": {
      "image/png": "[encoded data removed]",
      "text/plain": [
       "<matplotlib.figure.Figure at 0x2189ed47198>"
      ]
     },
     "metadata": {},
     "output_type": "display_data"
    }
   ],
   "source": [
    "fig,ax=plt.subplots(1,2,figsize=(20,5))\n",
    "ax[0].hist(data[\"Low Blood Pressure\"]);\n",
    "ax[0].set_title(\"Histogram plot of Low Blood Pressure\")\n",
    "ax[0].set_xlabel(\"Low Blood Preesure\")\n",
    "ax[0].set_ylabel(\"Count\")\n",
    "ax[1].set_ylabel(\"Low Blood Pressure\")\n",
    "ax[1].set_title(\"Boxplot of Low Blood Pressure\")\n",
    "ax[1].boxplot(data[\"Low Blood Pressure\"]);\n",
    "print(\"We can clearly see that our Low Blood Pressure data contains outlier because our data is very highly skewed\")"
   ]
  },
  {
   "cell_type": "markdown",
   "metadata": {},
   "source": [
    "**We use the lower limit and higher limit of low blood pressure that is usually the limits used in the medical domain and trim the values.**"
   ]
  },
  {
   "cell_type": "code",
   "execution_count": 15,
   "metadata": {
    "colab": {},
    "colab_type": "code",
    "id": "IGsaV4na0YTL"
   },
   "outputs": [],
   "source": [
    "data[\"Low Blood Pressure\"]=data[\"Low Blood Pressure\"].clip(lower=40)\n",
    "data[\"Low Blood Pressure\"]=data[\"Low Blood Pressure\"].clip(upper=160)\n",
    "test[\"Low Blood Pressure\"]=test[\"Low Blood Pressure\"].clip(lower=40)\n",
    "test[\"Low Blood Pressure\"]=test[\"Low Blood Pressure\"].clip(upper=160)"
   ]
  },
  {
   "cell_type": "code",
   "execution_count": 16,
   "metadata": {},
   "outputs": [
    {
     "name": "stdout",
     "output_type": "stream",
     "text": [
      "We can clearly see that our High Blood Pressure data contains outlier because our data is very highly skewed\n"
     ]
    },
    {
     "data": {
      "image/png": "[encoded data removed]",
      "text/plain": [
       "<matplotlib.figure.Figure at 0x2189eb53518>"
      ]
     },
     "metadata": {},
     "output_type": "display_data"
    }
   ],
   "source": [
    "fig,ax=plt.subplots(1,2,figsize=(20,5))\n",
    "ax[0].hist(data[\"High Blood Pressure\"]);\n",
    "ax[0].set_title(\"Histogram plot of High Blood Pressure\")\n",
    "ax[0].set_xlabel(\"High Blood Preesure\")\n",
    "ax[0].set_ylabel(\"Count\")\n",
    "ax[1].set_ylabel(\"High Blood Pressure\")\n",
    "ax[1].set_title(\"Boxplot of High Blood Pressure\")\n",
    "ax[1].boxplot(data[\"High Blood Pressure\"]);\n",
    "print(\"We can clearly see that our High Blood Pressure data contains outlier because our data is very highly skewed\")"
   ]
  },
  {
   "cell_type": "markdown",
   "metadata": {},
   "source": [
    "**Again, we will trim the values using the limits used in the medical domain for High Blood Pressure.**"
   ]
  },
  {
   "cell_type": "code",
   "execution_count": 17,
   "metadata": {
    "colab": {},
    "colab_type": "code",
    "id": "8OYP1xrR0YTQ",
    "scrolled": true
   },
   "outputs": [],
   "source": [
    "data[\"High Blood Pressure\"]=data[\"High Blood Pressure\"].clip(lower=60)\n",
    "data[\"High Blood Pressure\"]=data[\"High Blood Pressure\"].clip(upper=250)\n",
    "test[\"High Blood Pressure\"]=test[\"High Blood Pressure\"].clip(lower=60)\n",
    "test[\"High Blood Pressure\"]=test[\"High Blood Pressure\"].clip(upper=250)"
   ]
  },
  {
   "cell_type": "markdown",
   "metadata": {},
   "source": [
    "**Next, we check if there are any error in the values of other columns.**"
   ]
  },
  {
   "cell_type": "code",
   "execution_count": 18,
   "metadata": {
    "colab": {
     "base_uri": "https://localhost:8080/",
     "height": 134
    },
    "colab_type": "code",
    "id": "_TMvh4HY0YTV",
    "outputId": "7709f3e6-2904-43af-e861-ce98d1bc929a"
   },
   "outputs": [
    {
     "name": "stdout",
     "output_type": "stream",
     "text": [
      "['female' 'male']\n",
      "['normal' 'high' 'too high']\n",
      "['normal' 'high' 'too high']\n",
      "[0 1]\n",
      "[0 1]\n",
      "[1 0]\n",
      "[0 1]\n"
     ]
    }
   ],
   "source": [
    "for i in ['Gender','Cholesterol','Glucose', 'Smoke', 'Alcohol','Exercise', 'Disease']:\n",
    "    print(data[i].unique())"
   ]
  },
  {
   "cell_type": "markdown",
   "metadata": {},
   "source": [
    "**By itself, the distribution of age does not tell us much other than that there are no outliers as all the ages are reasonable. To visualize the effect of the age on the target, we will next make a kernel density estimation plot (KDE) colored by the value of the target. A kernel density estimate plot shows the distribution of a single variable and can be thought of as a smoothed histogram (it is created by computing a kernel, usually a Gaussian, at each data point and then averaging all the individual kernels to develop a single smooth curve). We will use the seaborn kdeplot for this graph.**"
   ]
  },
  {
   "cell_type": "code",
   "execution_count": 19,
   "metadata": {
    "colab": {
     "base_uri": "https://localhost:8080/",
     "height": 296
    },
    "colab_type": "code",
    "id": "bfQtgUlA0YTe",
    "outputId": "417309b6-5dbd-440f-da14-1745f31ea7a7"
   },
   "outputs": [
    {
     "data": {
      "image/png": "[encoded data removed]",
      "text/plain": [
       "<matplotlib.figure.Figure at 0x2189eb5f940>"
      ]
     },
     "metadata": {},
     "output_type": "display_data"
    }
   ],
   "source": [
    "fig,ax=plt.subplots(1,figsize=(8,5))\n",
    "ax.set_title(\"Distribution plot of Age\")\n",
    "ax.set_ylabel(\"Density\")\n",
    "sns.distplot(data.Age[data.Disease==1],hist=False,label=\"Disease=1\",ax=ax)\n",
    "sns.distplot(data.Age[data.Disease==0],hist=False,label=\"Disease=0\",ax=ax);"
   ]
  },
  {
   "cell_type": "markdown",
   "metadata": {},
   "source": [
    "**We see that the Disease=1 is slightly skewed to the right so we can expect the age to be helpful in predicting if a person has a disease or not.**"
   ]
  },
  {
   "cell_type": "markdown",
   "metadata": {},
   "source": [
    "**We will divide the age groups to form bins to see that if it can help us to predict the outcome.**"
   ]
  },
  {
   "cell_type": "code",
   "execution_count": 20,
   "metadata": {
    "colab": {},
    "colab_type": "code",
    "id": "yTZ1HfMt0YTg"
   },
   "outputs": [],
   "source": [
    "data[\"Age_binned\"]=pd.cut(data.Age,np.linspace(25,65,9),labels=np.arange(8))\n",
    "test[\"Age_binned\"]=pd.cut(test.Age,np.linspace(25,65,9),labels=np.arange(8))"
   ]
  },
  {
   "cell_type": "code",
   "execution_count": 21,
   "metadata": {
    "colab": {
     "base_uri": "https://localhost:8080/",
     "height": 352
    },
    "colab_type": "code",
    "id": "1roFyGUa0YTj",
    "outputId": "e4aad16f-8010-4994-fa5c-fea866c47291"
   },
   "outputs": [
    {
     "name": "stdout",
     "output_type": "stream",
     "text": [
      "Mean of the people having the disease by age group:\n"
     ]
    },
    {
     "data": {
      "image/png": "[encoded data removed]",
      "text/plain": [
       "<matplotlib.figure.Figure at 0x2189ee90438>"
      ]
     },
     "metadata": {},
     "output_type": "display_data"
    }
   ],
   "source": [
    "plt.figure(figsize=(10,5))\n",
    "sns.barplot(data.groupby(\"Age_binned\")[\"Disease\"].mean().index,data.groupby(\"Age_binned\")[\"Disease\"].mean());\n",
    "print(\"Mean of the people having the disease by age group:\")"
   ]
  },
  {
   "cell_type": "markdown",
   "metadata": {},
   "source": [
    "**Clearly, we can see that the binning can help us in the prediction of the disease outcome as the age increases the probabilty of getting the disease.**"
   ]
  },
  {
   "cell_type": "code",
   "execution_count": 22,
   "metadata": {
    "colab": {
     "base_uri": "https://localhost:8080/",
     "height": 296
    },
    "colab_type": "code",
    "id": "UWqc29Kf0YTq",
    "outputId": "5548f7fd-ea7a-42d3-db92-9e9d214d767d"
   },
   "outputs": [
    {
     "data": {
      "image/png": "[encoded data removed]",
      "text/plain": [
       "<matplotlib.figure.Figure at 0x2189ec31f98>"
      ]
     },
     "metadata": {},
     "output_type": "display_data"
    }
   ],
   "source": [
    "fig,ax=plt.subplots(1,2,figsize=(20,5))\n",
    "sns.countplot(data=data,x=\"Glucose\",hue=\"Disease\",ax=ax[0]);\n",
    "ax[0].set_title(\"Count plot of Glucose categorized by disease and level\")\n",
    "sns.countplot(data=data,x=\"Cholesterol\",hue=\"Disease\",ax=ax[1])\n",
    "ax[1].set_title(\"Count plot of Cholestrol categorized by disease and level\");"
   ]
  },
  {
   "cell_type": "code",
   "execution_count": 23,
   "metadata": {},
   "outputs": [],
   "source": [
    "# Function to plot ROC_AUC_curve\n",
    "\n",
    "def ROC_AUC_curve(model,model_name=\"Model\"):\n",
    "    # generate a no skill prediction (majority class)\n",
    "    ns_probs = [0 for _ in range(len(y_test))]\n",
    "\n",
    "    # predict probabilities\n",
    "    lr_probs = model.predict_proba(X_test)\n",
    "    # keep probabilities for the positive outcome only\n",
    "    lr_probs = lr_probs[:, 1]\n",
    "    # calculate scores\n",
    "    ns_auc = roc_auc_score(y_test, ns_probs)\n",
    "    lr_auc = roc_auc_score(y_test, lr_probs)\n",
    "    # summarize scores\n",
    "    print('No Skill: ROC AUC=%.3f' % (ns_auc))\n",
    "    print('Decision Tree: ROC AUC=%.3f' % (lr_auc))\n",
    "    # calculate roc curves\n",
    "    ns_fpr, ns_tpr, _ = roc_curve(y_test, ns_probs)\n",
    "    lr_fpr, lr_tpr, _ = roc_curve(y_test, lr_probs)\n",
    "    # plot the roc curve for the model\n",
    "    plt.figure(figsize=(8,4))\n",
    "    plt.plot(ns_fpr, ns_tpr, linestyle='--', label='No Skill')\n",
    "    plt.plot(lr_fpr, lr_tpr, marker='.', label=model_name)\n",
    "    # axis labels\n",
    "    plt.xlabel('False Positive Rate')\n",
    "    plt.ylabel('True Positive Rate')\n",
    "    # show the legend\n",
    "    plt.legend()\n",
    "    # show the plot\n",
    "    plt.show()"
   ]
  },
  {
   "cell_type": "markdown",
   "metadata": {},
   "source": [
    "## Data Transformation"
   ]
  },
  {
   "cell_type": "markdown",
   "metadata": {},
   "source": [
    "**Converting the categorical columns into binary data.**"
   ]
  },
  {
   "cell_type": "code",
   "execution_count": 24,
   "metadata": {
    "colab": {},
    "colab_type": "code",
    "id": "MbYkeKI_0YTz",
    "scrolled": true
   },
   "outputs": [],
   "source": [
    "data.Gender.replace({\"female\":0,\"male\":1},inplace=True)\n",
    "test.Gender.replace({\"female\":0,\"male\":1},inplace=True)"
   ]
  },
  {
   "cell_type": "code",
   "execution_count": 25,
   "metadata": {
    "colab": {},
    "colab_type": "code",
    "id": "Nj10xKCl0YT2",
    "scrolled": true
   },
   "outputs": [],
   "source": [
    "# One-hot encoding the categorical column\n",
    "data=pd.get_dummies(data)\n",
    "test=pd.get_dummies(test)"
   ]
  },
  {
   "cell_type": "code",
   "execution_count": 26,
   "metadata": {
    "colab": {},
    "colab_type": "code",
    "id": "2jh-JJQh0YT6"
   },
   "outputs": [],
   "source": [
    "# Drop the columns because we drop one column when one hot encoding because n-1 contains the sufficient information so we can\n",
    "# drop the nth column\n",
    "data.drop([\"Age\",'Cholesterol_too high','Glucose_too high','Age_binned_7'],inplace=True,axis=1)\n",
    "test.drop([\"Age\",'Cholesterol_too high','Glucose_too high','Age_binned_7'],inplace=True,axis=1)"
   ]
  },
  {
   "cell_type": "markdown",
   "metadata": {},
   "source": [
    "**We split the data to get our train and test, which will help us to evaluate how well our model runs on unseen data.**"
   ]
  },
  {
   "cell_type": "code",
   "execution_count": 27,
   "metadata": {
    "colab": {},
    "colab_type": "code",
    "id": "CHJcY90p0YUA",
    "scrolled": true
   },
   "outputs": [],
   "source": [
    "X_train,X_test,y_train,y_test=train_test_split(data[data.columns[data.columns!=\"Disease\"]],data.Disease,random_state=42,test_size=.15)"
   ]
  },
  {
   "cell_type": "markdown",
   "metadata": {},
   "source": [
    "**Next we scale our data so that we can make the data suitable for training on some models which require preprocessed data.**"
   ]
  },
  {
   "cell_type": "code",
   "execution_count": 28,
   "metadata": {
    "colab": {},
    "colab_type": "code",
    "id": "l6PrW4BN0YUC",
    "scrolled": true
   },
   "outputs": [],
   "source": [
    "scaler=StandardScaler()"
   ]
  },
  {
   "cell_type": "code",
   "execution_count": 29,
   "metadata": {
    "colab": {},
    "colab_type": "code",
    "id": "X0T6DyWP0YUF"
   },
   "outputs": [
    {
     "name": "stderr",
     "output_type": "stream",
     "text": [
      "D:\\Anaconda\\envs\\tensorflow\\lib\\site-packages\\sklearn\\preprocessing\\data.py:617: DataConversionWarning: Data with input dtype int64, float64 were all converted to float64 by StandardScaler.\n",
      "  return self.partial_fit(X, y)\n",
      "D:\\Anaconda\\envs\\tensorflow\\lib\\site-packages\\sklearn\\base.py:462: DataConversionWarning: Data with input dtype int64, float64 were all converted to float64 by StandardScaler.\n",
      "  return self.fit(X, **fit_params).transform(X)\n"
     ]
    }
   ],
   "source": [
    "X_train[['Height', 'Weight', 'Low Blood Pressure','High Blood Pressure',\"BMI\"]]=scaler.fit_transform(X_train[['Height', 'Weight', 'Low Blood Pressure','High Blood Pressure','BMI']])"
   ]
  },
  {
   "cell_type": "code",
   "execution_count": 30,
   "metadata": {
    "scrolled": true
   },
   "outputs": [
    {
     "name": "stderr",
     "output_type": "stream",
     "text": [
      "D:\\Anaconda\\envs\\tensorflow\\lib\\site-packages\\sklearn\\preprocessing\\data.py:617: DataConversionWarning: Data with input dtype int64, float64 were all converted to float64 by StandardScaler.\n",
      "  return self.partial_fit(X, y)\n",
      "D:\\Anaconda\\envs\\tensorflow\\lib\\site-packages\\sklearn\\base.py:462: DataConversionWarning: Data with input dtype int64, float64 were all converted to float64 by StandardScaler.\n",
      "  return self.fit(X, **fit_params).transform(X)\n"
     ]
    }
   ],
   "source": [
    "test[['Height', 'Weight', 'Low Blood Pressure','High Blood Pressure',\"BMI\"]]=scaler.fit_transform(test[['Height', 'Weight', 'Low Blood Pressure','High Blood Pressure','BMI']])"
   ]
  },
  {
   "cell_type": "code",
   "execution_count": 31,
   "metadata": {
    "colab": {},
    "colab_type": "code",
    "id": "x6ZOkU4Z0YUI",
    "scrolled": true
   },
   "outputs": [
    {
     "name": "stderr",
     "output_type": "stream",
     "text": [
      "D:\\Anaconda\\envs\\tensorflow\\lib\\site-packages\\ipykernel_launcher.py:1: DataConversionWarning: Data with input dtype int64, float64 were all converted to float64 by StandardScaler.\n",
      "  \"\"\"Entry point for launching an IPython kernel.\n"
     ]
    }
   ],
   "source": [
    "X_test[['Height', 'Weight', 'Low Blood Pressure','High Blood Pressure','BMI']]=scaler.transform(X_test[['Height', 'Weight', 'Low Blood Pressure','High Blood Pressure',\"BMI\"]])"
   ]
  },
  {
   "cell_type": "code",
   "execution_count": 32,
   "metadata": {},
   "outputs": [],
   "source": [
    "final_prediction=pd.DataFrame()"
   ]
  },
  {
   "cell_type": "code",
   "execution_count": 33,
   "metadata": {},
   "outputs": [],
   "source": [
    "final_prediction[\"ID\"]=test.pop(\"ID\")"
   ]
  },
  {
   "cell_type": "markdown",
   "metadata": {
    "colab_type": "text",
    "id": "2NF2FYiV0YUK"
   },
   "source": [
    "## Model Building"
   ]
  },
  {
   "cell_type": "markdown",
   "metadata": {},
   "source": [
    "Metrics for tuning: When predicting disease we use recall we want our model to predict the disease as much times from the actual number of cases of disease. The metrics for tuning here used is accuracy because the models were giving more stable results on test set when performing tuning using accuracy. Also, it is safe to use the accuracy as metrics because the classes are balanced and the recall score on test set are better when accuracy was used as tuning parameter rather than recall as the tuning metrics."
   ]
  },
  {
   "cell_type": "markdown",
   "metadata": {},
   "source": [
    "Cross Validation: 6 folds have been used for tuning the model to get a good generalized model and use as much as possible data for training the model. "
   ]
  },
  {
   "cell_type": "markdown",
   "metadata": {},
   "source": [
    "Grid Search and Randomized Grid Search: A simple grid search will try all combination for getting the hyperparameters which have the best average score on the all the testing folds. But, a randomized search cv uses the same objective but instead of trying all the combinations it uses only certain specified number of combinations. Although, it seems like the Randomized search won't be able to perform as well as the grid search but it saves a lot of training time and gives results which are in par with the results given by grid search. **For Random Forest and Gradient Boosting Machines, I have used Randomized Search which uses a random state so that it reproduces all the results by taking the same specified combination from the grid that we provide.**"
   ]
  },
  {
   "cell_type": "markdown",
   "metadata": {},
   "source": [
    "**Threshold Tuning for Prediction(for models which have predict_proba method): We can see that although our accuracy is good but the recall is low, when predicting disease we want a high recall. So, by reducing the threshold the recall increased. It is safe to reduce the threshold in this case because we don't want to miss out on the cases which although predicted with low probabilty of being positive by our model but in actual  are positive.**"
   ]
  },
  {
   "cell_type": "markdown",
   "metadata": {
    "colab": {},
    "colab_type": "code",
    "id": "-W1vc2y00YUK",
    "scrolled": true
   },
   "source": [
    "### Linear SVM"
   ]
  },
  {
   "cell_type": "markdown",
   "metadata": {},
   "source": [
    "We start our model building process by using a Linear SVM Model. It is a simple model and its training does not take lot of time. For tuning the model we will be tuning the C parameter and the regularisation parameter.\n",
    "\n",
    "The C parameter tells the model how much you want to avoid misclassifying each training examples. Large values of C means that the otimizer will look for a smaller margin classifier even if it means classifying the data incorrectly. While, the larger C value look for classifying the data correctly even if it means it has to build a small margin classifier\n",
    "\n",
    "The penalty is the l1 and l2 regularisation parameter. The l1 and l2 both penalize the points and make the models less susceptible to outliers and improve its overall generalization."
   ]
  },
  {
   "cell_type": "code",
   "execution_count": 34,
   "metadata": {
    "colab": {},
    "colab_type": "code",
    "id": "eZfGTX9Y0YUO"
   },
   "outputs": [],
   "source": [
    "svm=LinearSVC(random_state=42,dual=False)"
   ]
  },
  {
   "cell_type": "code",
   "execution_count": 35,
   "metadata": {
    "colab": {},
    "colab_type": "code",
    "id": "vJkggBxE0YUT"
   },
   "outputs": [],
   "source": [
    "param_grid_svm={\"C\":[.001,.005,.01,.1,.2,.4,.8,1,10],\"penalty\":[\"l1\",\"l2\"]}"
   ]
  },
  {
   "cell_type": "code",
   "execution_count": 36,
   "metadata": {
    "colab": {},
    "colab_type": "code",
    "id": "ttTbU6lW0YUW"
   },
   "outputs": [],
   "source": [
    "grid_search_svm=GridSearchCV(estimator=svm,param_grid=param_grid_svm,cv=6,scoring=\"accuracy\")"
   ]
  },
  {
   "cell_type": "code",
   "execution_count": 109,
   "metadata": {
    "colab": {
     "base_uri": "https://localhost:8080/",
     "height": 202
    },
    "colab_type": "code",
    "id": "xhaU1WKC0YUZ",
    "outputId": "a0af77e7-2a88-4ff7-8d50-6bc751fc59b6",
    "scrolled": false
   },
   "outputs": [
    {
     "data": {
      "text/plain": [
       "GridSearchCV(cv=6, error_score='raise-deprecating',\n",
       "       estimator=LinearSVC(C=1.0, class_weight=None, dual=False, fit_intercept=True,\n",
       "     intercept_scaling=1, loss='squared_hinge', max_iter=1000,\n",
       "     multi_class='ovr', penalty='l2', random_state=42, tol=0.0001,\n",
       "     verbose=0),\n",
       "       fit_params=None, iid='warn', n_jobs=None,\n",
       "       param_grid={'C': [0.001, 0.005, 0.01, 0.1, 0.2, 0.4, 0.8, 1, 10], 'penalty': ['l1', 'l2']},\n",
       "       pre_dispatch='2*n_jobs', refit=True, return_train_score='warn',\n",
       "       scoring='accuracy', verbose=0)"
      ]
     },
     "execution_count": 109,
     "metadata": {},
     "output_type": "execute_result"
    }
   ],
   "source": [
    "grid_search_svm.fit(X_train,y_train)"
   ]
  },
  {
   "cell_type": "code",
   "execution_count": 38,
   "metadata": {
    "colab": {
     "base_uri": "https://localhost:8080/",
     "height": 84
    },
    "colab_type": "code",
    "id": "YWgW0wtk0YUj",
    "outputId": "733e2eed-e116-49ca-f5f6-37b41d14887b"
   },
   "outputs": [
    {
     "name": "stdout",
     "output_type": "stream",
     "text": [
      "{'C': 0.01, 'penalty': 'l2'}\n"
     ]
    }
   ],
   "source": [
    "best_params_svm=grid_search_svm.best_params_\n",
    "print(best_params_svm)"
   ]
  },
  {
   "cell_type": "code",
   "execution_count": 39,
   "metadata": {
    "colab": {
     "base_uri": "https://localhost:8080/",
     "height": 34
    },
    "colab_type": "code",
    "id": "-ieSmWXU0YUn",
    "outputId": "6b229ca6-2234-43a4-ba02-b8af67aa7975"
   },
   "outputs": [
    {
     "data": {
      "text/plain": [
       "0.7271391572865823"
      ]
     },
     "execution_count": 39,
     "metadata": {},
     "output_type": "execute_result"
    }
   ],
   "source": [
    "#printing the training accuracy\n",
    "accuracy_score(grid_search_svm.predict(X_train),y_train)"
   ]
  },
  {
   "cell_type": "code",
   "execution_count": 40,
   "metadata": {
    "colab": {
     "base_uri": "https://localhost:8080/",
     "height": 34
    },
    "colab_type": "code",
    "id": "_T7jWXNV0YUp",
    "outputId": "51c86fc8-7f4a-490f-e7d4-cd4de2d0ef94"
   },
   "outputs": [
    {
     "data": {
      "text/plain": [
       "0.7392408635529844"
      ]
     },
     "execution_count": 40,
     "metadata": {},
     "output_type": "execute_result"
    }
   ],
   "source": [
    "#printing the testing accuracy\n",
    "accuracy_score(grid_search_svm.predict(X_test),y_test)"
   ]
  },
  {
   "cell_type": "code",
   "execution_count": 41,
   "metadata": {
    "colab": {
     "base_uri": "https://localhost:8080/",
     "height": 168
    },
    "colab_type": "code",
    "id": "pubv1YLD0YUs",
    "outputId": "ee1134d1-1792-4e03-ed7b-3c6f769d743a"
   },
   "outputs": [
    {
     "name": "stdout",
     "output_type": "stream",
     "text": [
      "              precision    recall  f1-score   support\n",
      "\n",
      "           0       0.72      0.78      0.75      3501\n",
      "           1       0.76      0.70      0.73      3586\n",
      "\n",
      "   micro avg       0.74      0.74      0.74      7087\n",
      "   macro avg       0.74      0.74      0.74      7087\n",
      "weighted avg       0.74      0.74      0.74      7087\n",
      "\n"
     ]
    }
   ],
   "source": [
    "print(classification_report(y_true=y_test,y_pred=grid_search_svm.predict(X_test)))"
   ]
  },
  {
   "cell_type": "code",
   "execution_count": 42,
   "metadata": {},
   "outputs": [],
   "source": [
    "test_predict_svm=grid_search_svm.predict(test)"
   ]
  },
  {
   "cell_type": "markdown",
   "metadata": {
    "colab_type": "text",
    "id": "gHYBo54r0YUw"
   },
   "source": [
    "### RBF Kernel SVM"
   ]
  },
  {
   "cell_type": "markdown",
   "metadata": {},
   "source": [
    "RBF Kernels are used when the data is not linearly separable. It divides the binary data by making a non linear decision boundary. C and gamma are two hyperparameters that are used to train a RBF-kernel based SVM classifier.\n",
    "\n",
    "**Model Tuning:**\n",
    "\n",
    "**C:** The higher cost aims to classify more points correctly. So a higher cost will have more variance and a lower cost will have low variance as it will try to get a smoother decision boundary. \n",
    "\n",
    "**Gamma:**The RBF gamma parameter in SVM tuning signifies the influence of points either near or far away from the hyperplane. For a low gamma, the model will be too constrained and include all points of the training dataset, without really capturing the shape. So, lower gamma will give a model with high variance and higher gamma will give a model with high bias and low variance."
   ]
  },
  {
   "cell_type": "code",
   "execution_count": 43,
   "metadata": {
    "colab": {},
    "colab_type": "code",
    "id": "aS-C6GrS0YUz"
   },
   "outputs": [],
   "source": [
    "rbf_svm=SVC(kernel=\"rbf\",random_state=42)"
   ]
  },
  {
   "cell_type": "code",
   "execution_count": 44,
   "metadata": {
    "colab": {},
    "colab_type": "code",
    "id": "zd6PrGQA0YU2"
   },
   "outputs": [],
   "source": [
    "param_grid_rsvm={\"C\":[.01,.1,.4,.8,1,10],\"gamma\":[0.1,0.4,0.8,1,10]}"
   ]
  },
  {
   "cell_type": "code",
   "execution_count": 45,
   "metadata": {
    "colab": {},
    "colab_type": "code",
    "id": "xuq1TJ9Z0YU5"
   },
   "outputs": [],
   "source": [
    "grid_search_rsvm=GridSearchCV(estimator=rbf_svm,param_grid=param_grid_rsvm,cv=6,scoring=\"accuracy\",verbose=1,n_jobs=-1)"
   ]
  },
  {
   "cell_type": "code",
   "execution_count": 46,
   "metadata": {
    "colab": {
     "base_uri": "https://localhost:8080/",
     "height": 356
    },
    "colab_type": "code",
    "id": "Ts0S02me0YU6",
    "outputId": "ee11d0f9-6a7c-4f44-c66a-b915e7d1dcc9"
   },
   "outputs": [
    {
     "name": "stdout",
     "output_type": "stream",
     "text": [
      "Fitting 6 folds for each of 30 candidates, totalling 180 fits\n"
     ]
    },
    {
     "name": "stderr",
     "output_type": "stream",
     "text": [
      "[Parallel(n_jobs=-1)]: Using backend LokyBackend with 4 concurrent workers.\n",
      "[Parallel(n_jobs=-1)]: Done  42 tasks      | elapsed: 28.7min\n",
      "[Parallel(n_jobs=-1)]: Done 180 out of 180 | elapsed: 205.0min finished\n"
     ]
    },
    {
     "data": {
      "text/plain": [
       "GridSearchCV(cv=6, error_score='raise-deprecating',\n",
       "       estimator=SVC(C=1.0, cache_size=200, class_weight=None, coef0=0.0,\n",
       "  decision_function_shape='ovr', degree=3, gamma='auto_deprecated',\n",
       "  kernel='rbf', max_iter=-1, probability=False, random_state=42,\n",
       "  shrinking=True, tol=0.001, verbose=False),\n",
       "       fit_params=None, iid='warn', n_jobs=-1,\n",
       "       param_grid={'C': [0.01, 0.1, 0.4, 0.8, 1, 10], 'gamma': [0.1, 0.4, 0.8, 1, 10]},\n",
       "       pre_dispatch='2*n_jobs', refit=True, return_train_score='warn',\n",
       "       scoring='accuracy', verbose=1)"
      ]
     },
     "execution_count": 46,
     "metadata": {},
     "output_type": "execute_result"
    }
   ],
   "source": [
    "grid_search_rsvm.fit(X_train,y_train)"
   ]
  },
  {
   "cell_type": "code",
   "execution_count": 47,
   "metadata": {
    "colab": {
     "base_uri": "https://localhost:8080/",
     "height": 34
    },
    "colab_type": "code",
    "id": "9SN-yhG30YU9",
    "outputId": "81fa403b-f349-4a62-d943-b924575d2cab"
   },
   "outputs": [
    {
     "name": "stdout",
     "output_type": "stream",
     "text": [
      "{'C': 0.8, 'gamma': 0.1}\n"
     ]
    }
   ],
   "source": [
    "best_params_rsvm=grid_search_rsvm.best_params_\n",
    "print(best_params_rsvm)"
   ]
  },
  {
   "cell_type": "code",
   "execution_count": 48,
   "metadata": {
    "colab": {
     "base_uri": "https://localhost:8080/",
     "height": 34
    },
    "colab_type": "code",
    "id": "B4Lko0xs0YVB",
    "outputId": "ca2ae4dc-51e9-49bf-caf6-7c5eae3439cb"
   },
   "outputs": [
    {
     "data": {
      "text/plain": [
       "0.7350831756151011"
      ]
     },
     "execution_count": 48,
     "metadata": {},
     "output_type": "execute_result"
    }
   ],
   "source": [
    "#printing the training accuracy\n",
    "accuracy_score(grid_search_rsvm.predict(X_train),y_train)"
   ]
  },
  {
   "cell_type": "code",
   "execution_count": 49,
   "metadata": {
    "colab": {
     "base_uri": "https://localhost:8080/",
     "height": 34
    },
    "colab_type": "code",
    "id": "P-S6TeRT0YVD",
    "outputId": "39d956e9-fe41-4cd2-9296-f90695c84b36"
   },
   "outputs": [
    {
     "data": {
      "text/plain": [
       "0.7426273458445041"
      ]
     },
     "execution_count": 49,
     "metadata": {},
     "output_type": "execute_result"
    }
   ],
   "source": [
    "#printing the testing accuracy\n",
    "accuracy_score(y_test,grid_search_rsvm.predict(X_test))"
   ]
  },
  {
   "cell_type": "code",
   "execution_count": 50,
   "metadata": {
    "colab": {
     "base_uri": "https://localhost:8080/",
     "height": 168
    },
    "colab_type": "code",
    "id": "XKpjJNA20YV2",
    "outputId": "ef85c2a9-155f-4715-8212-ea3fe3b3eac1"
   },
   "outputs": [
    {
     "name": "stdout",
     "output_type": "stream",
     "text": [
      "              precision    recall  f1-score   support\n",
      "\n",
      "           0       0.72      0.79      0.75      3501\n",
      "           1       0.77      0.70      0.73      3586\n",
      "\n",
      "   micro avg       0.74      0.74      0.74      7087\n",
      "   macro avg       0.74      0.74      0.74      7087\n",
      "weighted avg       0.75      0.74      0.74      7087\n",
      "\n"
     ]
    }
   ],
   "source": [
    "print(classification_report(y_test,grid_search_rsvm.predict(X_test)))"
   ]
  },
  {
   "cell_type": "code",
   "execution_count": 51,
   "metadata": {},
   "outputs": [],
   "source": [
    "test_predict_rsvm=grid_search_rsvm.predict(test)"
   ]
  },
  {
   "cell_type": "markdown",
   "metadata": {
    "colab_type": "text",
    "id": "xwtvcrhf0YV8"
   },
   "source": [
    "### Random Forest Classifier"
   ]
  },
  {
   "cell_type": "markdown",
   "metadata": {},
   "source": [
    "A Random Forest Classifier uses a group of decision trees in order to make a decision. A decision tree usually overfits the data, but a random forest is able to better generalize. So, Random Forest are better at making decision than a simple decision tree. The class that is predicted is simply the class with the highest average class probability\n",
    "\n",
    "**Model Tuning:** \n",
    "\n",
    "**n_estimators:**The important tuning parameter of the Random Forest is the number of trees to be used for predicting the result. \n",
    "<br>**max_features:** The max_features is the number of features that will be used for making a single tree. For eg using \"sqrt\", the tree uses the square root of the number of total features in the data. Using auto is the same as making use of sqrt. The other values can be specifying the int(number of features to be used less than the total features), log, and proportion of the features to be used.\n",
    "<br>**min_samples_leaf:** The minimum number of samples that should be there in leaf node. If the number is less then the leaf node is pruned.\n",
    "<br>**min_samples_split:** The number of samples that should be present in the node for it to be split further."
   ]
  },
  {
   "cell_type": "code",
   "execution_count": 52,
   "metadata": {
    "colab": {},
    "colab_type": "code",
    "id": "2aqI68Yc0YV8"
   },
   "outputs": [],
   "source": [
    "from sklearn.ensemble import RandomForestClassifier"
   ]
  },
  {
   "cell_type": "code",
   "execution_count": 53,
   "metadata": {
    "colab": {},
    "colab_type": "code",
    "id": "fn3Frttl0YWA"
   },
   "outputs": [],
   "source": [
    "rm=RandomForestClassifier(random_state=42,n_jobs=-1,n_estimators=100)"
   ]
  },
  {
   "cell_type": "code",
   "execution_count": 54,
   "metadata": {
    "code_folding": [],
    "colab": {},
    "colab_type": "code",
    "id": "catLdJR80YWB"
   },
   "outputs": [],
   "source": [
    "param_grid_rm={'max_depth': [1,25,10, 20, 100],\n",
    "            'max_features': ['auto', 'sqrt'],\n",
    "            'min_samples_leaf': [10,30,50,100],\n",
    "             'min_samples_split': [500,800,1000],\n",
    "             'n_estimators': [100,200,500, 1000, 2000]}"
   ]
  },
  {
   "cell_type": "code",
   "execution_count": 55,
   "metadata": {
    "colab": {},
    "colab_type": "code",
    "id": "KJykc9Ay0YWF"
   },
   "outputs": [],
   "source": [
    "grid_search_rm=RandomizedSearchCV(estimator=rm,param_distributions=param_grid_rm,cv=6,scoring=\"accuracy\",n_iter=100,verbose=1,n_jobs=-1,random_state=42)"
   ]
  },
  {
   "cell_type": "code",
   "execution_count": 56,
   "metadata": {
    "colab": {
     "base_uri": "https://localhost:8080/",
     "height": 608
    },
    "colab_type": "code",
    "id": "14NNHlmD1L3k",
    "outputId": "2ff23fa9-c78a-45a8-cc91-d76adbde957c"
   },
   "outputs": [
    {
     "name": "stdout",
     "output_type": "stream",
     "text": [
      "Fitting 6 folds for each of 100 candidates, totalling 600 fits\n"
     ]
    },
    {
     "name": "stderr",
     "output_type": "stream",
     "text": [
      "[Parallel(n_jobs=-1)]: Using backend LokyBackend with 4 concurrent workers.\n",
      "[Parallel(n_jobs=-1)]: Done  42 tasks      | elapsed:  2.4min\n",
      "[Parallel(n_jobs=-1)]: Done 192 tasks      | elapsed: 12.1min\n",
      "[Parallel(n_jobs=-1)]: Done 442 tasks      | elapsed: 24.8min\n",
      "[Parallel(n_jobs=-1)]: Done 600 out of 600 | elapsed: 32.9min finished\n"
     ]
    },
    {
     "data": {
      "text/plain": [
       "RandomizedSearchCV(cv=6, error_score='raise-deprecating',\n",
       "          estimator=RandomForestClassifier(bootstrap=True, class_weight=None, criterion='gini',\n",
       "            max_depth=None, max_features='auto', max_leaf_nodes=None,\n",
       "            min_impurity_decrease=0.0, min_impurity_split=None,\n",
       "            min_samples_leaf=1, min_samples_split=2,\n",
       "            min_weight_fraction_leaf=0.0, n_estimators=100, n_jobs=-1,\n",
       "            oob_score=False, random_state=42, verbose=0, warm_start=False),\n",
       "          fit_params=None, iid='warn', n_iter=100, n_jobs=-1,\n",
       "          param_distributions={'min_samples_split': [500, 800, 1000], 'min_samples_leaf': [10, 30, 50, 100], 'max_depth': [1, 25, 10, 20, 100], 'n_estimators': [100, 200, 500, 1000, 2000], 'max_features': ['auto', 'sqrt']},\n",
       "          pre_dispatch='2*n_jobs', random_state=42, refit=True,\n",
       "          return_train_score='warn', scoring='accuracy', verbose=1)"
      ]
     },
     "execution_count": 56,
     "metadata": {},
     "output_type": "execute_result"
    }
   ],
   "source": [
    "grid_search_rm.fit(X_train,y_train)"
   ]
  },
  {
   "cell_type": "code",
   "execution_count": 57,
   "metadata": {
    "colab": {
     "base_uri": "https://localhost:8080/",
     "height": 34
    },
    "colab_type": "code",
    "id": "unEJ6_Kh0YWH",
    "outputId": "cf4b1fcf-5aee-482e-8235-5631bbd69388"
   },
   "outputs": [
    {
     "data": {
      "text/plain": [
       "0.7300029883454527"
      ]
     },
     "execution_count": 57,
     "metadata": {},
     "output_type": "execute_result"
    }
   ],
   "source": [
    "#printing the training accuracy\n",
    "accuracy_score(grid_search_rm.predict(X_train),y_train)"
   ]
  },
  {
   "cell_type": "code",
   "execution_count": 58,
   "metadata": {
    "colab": {
     "base_uri": "https://localhost:8080/",
     "height": 34
    },
    "colab_type": "code",
    "id": "Qe7ez9T80YWK",
    "outputId": "e78f396b-4834-494b-f3fd-4d37743535da"
   },
   "outputs": [
    {
     "data": {
      "text/plain": [
       "0.7378298292648512"
      ]
     },
     "execution_count": 58,
     "metadata": {},
     "output_type": "execute_result"
    }
   ],
   "source": [
    "#printing the testing accuracy\n",
    "accuracy_score(grid_search_rm.predict(X_test),y_test)"
   ]
  },
  {
   "cell_type": "code",
   "execution_count": 59,
   "metadata": {
    "colab": {
     "base_uri": "https://localhost:8080/",
     "height": 168
    },
    "colab_type": "code",
    "id": "M9yZ3Us8iVSv",
    "outputId": "f6f0ef28-7d5b-4cb9-dab5-343d82ee8f3b"
   },
   "outputs": [
    {
     "name": "stdout",
     "output_type": "stream",
     "text": [
      "              precision    recall  f1-score   support\n",
      "\n",
      "           0       0.71      0.78      0.75      3501\n",
      "           1       0.77      0.70      0.73      3586\n",
      "\n",
      "   micro avg       0.74      0.74      0.74      7087\n",
      "   macro avg       0.74      0.74      0.74      7087\n",
      "weighted avg       0.74      0.74      0.74      7087\n",
      "\n"
     ]
    }
   ],
   "source": [
    "print(classification_report(y_true=y_test,y_pred=grid_search_rm.predict(X_test)))"
   ]
  },
  {
   "cell_type": "code",
   "execution_count": 60,
   "metadata": {},
   "outputs": [
    {
     "name": "stdout",
     "output_type": "stream",
     "text": [
      "              precision    recall  f1-score   support\n",
      "\n",
      "           0       0.74      0.73      0.73      3501\n",
      "           1       0.74      0.74      0.74      3586\n",
      "\n",
      "   micro avg       0.74      0.74      0.74      7087\n",
      "   macro avg       0.74      0.74      0.74      7087\n",
      "weighted avg       0.74      0.74      0.74      7087\n",
      "\n"
     ]
    }
   ],
   "source": [
    "#Changing the threshold to tune the recall to improve\n",
    "print(classification_report(y_true=y_test,y_pred=(grid_search_rm.predict_proba(X_test)[:,1]>0.45).astype(int)))"
   ]
  },
  {
   "cell_type": "code",
   "execution_count": 61,
   "metadata": {},
   "outputs": [
    {
     "name": "stdout",
     "output_type": "stream",
     "text": [
      "{'min_samples_split': 500, 'min_samples_leaf': 10, 'max_features': 'sqrt', 'n_estimators': 2000, 'max_depth': 10}\n"
     ]
    }
   ],
   "source": [
    "best_params_rm=grid_search_rm.best_params_\n",
    "print(best_params_rm)"
   ]
  },
  {
   "cell_type": "code",
   "execution_count": 62,
   "metadata": {
    "code_folding": []
   },
   "outputs": [
    {
     "name": "stdout",
     "output_type": "stream",
     "text": [
      "No Skill: ROC AUC=0.500\n",
      "Decision Tree: ROC AUC=0.807\n"
     ]
    },
    {
     "data": {
      "image/png": "[encoded data removed]",
      "text/plain": [
       "<matplotlib.figure.Figure at 0x2189e626ba8>"
      ]
     },
     "metadata": {},
     "output_type": "display_data"
    }
   ],
   "source": [
    "ROC_AUC_curve(model=grid_search_rm,model_name=\"Random Forest\")"
   ]
  },
  {
   "cell_type": "code",
   "execution_count": 67,
   "metadata": {},
   "outputs": [
    {
     "data": {
      "image/png": "[encoded data removed]",
      "text/plain": [
       "<matplotlib.figure.Figure at 0x2189ee90048>"
      ]
     },
     "metadata": {},
     "output_type": "display_data"
    }
   ],
   "source": [
    "plt.figure(figsize=(20,5))\n",
    "feature_importance_rm=OrderedDict(sorted(zip(X_train.columns,grid_search_rm.best_estimator_.feature_importances_),reverse=True,key=lambda x:x[1]))\n",
    "sns.barplot(list(feature_importance_rm.keys())[:10],list(feature_importance_rm.values())[:10]);"
   ]
  },
  {
   "cell_type": "code",
   "execution_count": 68,
   "metadata": {},
   "outputs": [],
   "source": [
    "# Changing the threshold to get a better recall\n",
    "test_predict_rm=(grid_search_rm.predict_proba(test)[:,1]>0.45).astype(int)"
   ]
  },
  {
   "cell_type": "markdown",
   "metadata": {
    "colab_type": "text",
    "id": "Dx7ho7pk0YWN"
   },
   "source": [
    "### K- Nearest Neighbors"
   ]
  },
  {
   "cell_type": "markdown",
   "metadata": {},
   "source": [
    "**Model Tuning:**\n",
    "\n",
    "**n_neighbors:** Specifies the number of neighbors to be considered for classifying the point.\n",
    "<br>**weights:** If the weights are set to uniform then all the k points are assigned equal weigts for classification, else if teh distance is used the closest points are given more weight and has more priority when classifying the point\n",
    "<br>**p**: It defines the distance function that should be used i.e. manhattan or euclidean."
   ]
  },
  {
   "cell_type": "code",
   "execution_count": 69,
   "metadata": {
    "colab": {},
    "colab_type": "code",
    "id": "S6sPu2cw0YWO"
   },
   "outputs": [],
   "source": [
    "from sklearn.neighbors import KNeighborsClassifier"
   ]
  },
  {
   "cell_type": "code",
   "execution_count": 70,
   "metadata": {
    "colab": {},
    "colab_type": "code",
    "id": "ELxkxJpA0YWQ"
   },
   "outputs": [],
   "source": [
    "knn=KNeighborsClassifier()"
   ]
  },
  {
   "cell_type": "code",
   "execution_count": 71,
   "metadata": {
    "colab": {},
    "colab_type": "code",
    "id": "L9-8lLW6Zb2Z"
   },
   "outputs": [],
   "source": [
    "param_grid_knn={\"n_neighbors\":[30,50,80,100,150,200,500,1000],\"weights\":[\"uniform\",\"distance\"],\"p\":[1,2]}"
   ]
  },
  {
   "cell_type": "code",
   "execution_count": 72,
   "metadata": {
    "colab": {},
    "colab_type": "code",
    "id": "1PNluA9Laf3g"
   },
   "outputs": [],
   "source": [
    "grid_search_knn=GridSearchCV(estimator=knn,n_jobs=-1,param_grid=param_grid_knn,scoring=\"accuracy\",verbose=1)"
   ]
  },
  {
   "cell_type": "code",
   "execution_count": 73,
   "metadata": {
    "colab": {
     "base_uri": "https://localhost:8080/",
     "height": 322
    },
    "colab_type": "code",
    "id": "_8_PqBx50YWS",
    "outputId": "1dd38972-8518-4ad4-c8aa-5ba09ba55e3d"
   },
   "outputs": [
    {
     "name": "stderr",
     "output_type": "stream",
     "text": [
      "D:\\Anaconda\\envs\\tensorflow\\lib\\site-packages\\sklearn\\model_selection\\_split.py:1943: FutureWarning: You should specify a value for 'cv' instead of relying on the default value. The default value will change from 3 to 5 in version 0.22.\n",
      "  warnings.warn(CV_WARNING, FutureWarning)\n",
      "[Parallel(n_jobs=-1)]: Using backend LokyBackend with 4 concurrent workers.\n"
     ]
    },
    {
     "name": "stdout",
     "output_type": "stream",
     "text": [
      "Fitting 3 folds for each of 32 candidates, totalling 96 fits\n"
     ]
    },
    {
     "name": "stderr",
     "output_type": "stream",
     "text": [
      "[Parallel(n_jobs=-1)]: Done  42 tasks      | elapsed:  8.2min\n",
      "[Parallel(n_jobs=-1)]: Done  96 out of  96 | elapsed: 24.2min finished\n"
     ]
    },
    {
     "data": {
      "text/plain": [
       "GridSearchCV(cv='warn', error_score='raise-deprecating',\n",
       "       estimator=KNeighborsClassifier(algorithm='auto', leaf_size=30, metric='minkowski',\n",
       "           metric_params=None, n_jobs=None, n_neighbors=5, p=2,\n",
       "           weights='uniform'),\n",
       "       fit_params=None, iid='warn', n_jobs=-1,\n",
       "       param_grid={'p': [1, 2], 'n_neighbors': [30, 50, 80, 100, 150, 200, 500, 1000], 'weights': ['uniform', 'distance']},\n",
       "       pre_dispatch='2*n_jobs', refit=True, return_train_score='warn',\n",
       "       scoring='accuracy', verbose=1)"
      ]
     },
     "execution_count": 73,
     "metadata": {},
     "output_type": "execute_result"
    }
   ],
   "source": [
    "grid_search_knn.fit(X_train,y_train)"
   ]
  },
  {
   "cell_type": "code",
   "execution_count": 74,
   "metadata": {
    "colab": {
     "base_uri": "https://localhost:8080/",
     "height": 34
    },
    "colab_type": "code",
    "id": "AsgmGrf90YWV",
    "outputId": "9ef2fc97-ffcc-450f-9962-9815bca9ba6d"
   },
   "outputs": [
    {
     "data": {
      "text/plain": [
       "0.725669887438988"
      ]
     },
     "execution_count": 74,
     "metadata": {},
     "output_type": "execute_result"
    }
   ],
   "source": [
    "#printing the training accuracy\n",
    "accuracy_score(grid_search_knn.predict(X_train),y_train)"
   ]
  },
  {
   "cell_type": "code",
   "execution_count": 75,
   "metadata": {
    "colab": {
     "base_uri": "https://localhost:8080/",
     "height": 34
    },
    "colab_type": "code",
    "id": "bVeVMvBk0YWX",
    "outputId": "139ccf74-068d-4c14-90c7-16b95461bda9"
   },
   "outputs": [
    {
     "data": {
      "text/plain": [
       "0.7381120361224778"
      ]
     },
     "execution_count": 75,
     "metadata": {},
     "output_type": "execute_result"
    }
   ],
   "source": [
    "#printing the testing accuracy\n",
    "accuracy_score(grid_search_knn.predict(X_test),y_test)"
   ]
  },
  {
   "cell_type": "code",
   "execution_count": 76,
   "metadata": {
    "colab": {
     "base_uri": "https://localhost:8080/",
     "height": 168
    },
    "colab_type": "code",
    "id": "GBCyRphqa-CX",
    "outputId": "91545d98-ef3a-4ee8-8052-1dcec704328b"
   },
   "outputs": [
    {
     "name": "stdout",
     "output_type": "stream",
     "text": [
      "              precision    recall  f1-score   support\n",
      "\n",
      "           0       0.71      0.79      0.75      3501\n",
      "           1       0.77      0.69      0.73      3586\n",
      "\n",
      "   micro avg       0.74      0.74      0.74      7087\n",
      "   macro avg       0.74      0.74      0.74      7087\n",
      "weighted avg       0.74      0.74      0.74      7087\n",
      "\n"
     ]
    }
   ],
   "source": [
    "print(classification_report(y_true=y_test,y_pred=grid_search_knn.predict(X_test)))"
   ]
  },
  {
   "cell_type": "code",
   "execution_count": 77,
   "metadata": {},
   "outputs": [
    {
     "name": "stdout",
     "output_type": "stream",
     "text": [
      "              precision    recall  f1-score   support\n",
      "\n",
      "           0       0.74      0.72      0.73      3501\n",
      "           1       0.73      0.75      0.74      3586\n",
      "\n",
      "   micro avg       0.73      0.73      0.73      7087\n",
      "   macro avg       0.74      0.73      0.73      7087\n",
      "weighted avg       0.73      0.73      0.73      7087\n",
      "\n"
     ]
    }
   ],
   "source": [
    "#Changing the threshold to tune the recall to improve\n",
    "print(classification_report(y_true=y_test,y_pred=(grid_search_knn.predict_proba(X_test)[:,1]>0.45).astype(int)))"
   ]
  },
  {
   "cell_type": "code",
   "execution_count": 78,
   "metadata": {},
   "outputs": [
    {
     "name": "stdout",
     "output_type": "stream",
     "text": [
      "{'p': 1, 'n_neighbors': 100, 'weights': 'uniform'}\n"
     ]
    }
   ],
   "source": [
    "best_params_knn=grid_search_knn.best_params_\n",
    "print(best_params_knn)"
   ]
  },
  {
   "cell_type": "code",
   "execution_count": 79,
   "metadata": {
    "code_folding": []
   },
   "outputs": [
    {
     "name": "stdout",
     "output_type": "stream",
     "text": [
      "No Skill: ROC AUC=0.500\n",
      "Decision Tree: ROC AUC=0.803\n"
     ]
    },
    {
     "data": {
      "image/png": "[encoded data removed]",
      "text/plain": [
       "<matplotlib.figure.Figure at 0x2189eb89780>"
      ]
     },
     "metadata": {},
     "output_type": "display_data"
    }
   ],
   "source": [
    "ROC_AUC_curve(model=grid_search_knn,model_name=\"K-Nearest Neighbors\")"
   ]
  },
  {
   "cell_type": "code",
   "execution_count": 80,
   "metadata": {},
   "outputs": [],
   "source": [
    "# Changing the threshold to get a better recall\n",
    "test_predict_knn=(grid_search_knn.predict_proba(test)[:,1]>0.45).astype(int)"
   ]
  },
  {
   "cell_type": "markdown",
   "metadata": {
    "colab_type": "text",
    "id": "nM7YESkLy8lT"
   },
   "source": [
    "### Gradient Boosting Machines"
   ]
  },
  {
   "cell_type": "markdown",
   "metadata": {},
   "source": [
    "Gradient Boosting are build using number of trees just like random forest but here we keep on improving the individual base learner by giving more weights to the points where the previous learner made an error.\n",
    "\n",
    "**Model Tuning:** \n",
    "\n",
    "**n_estimators:** The important tuning parameter of the Random Forest is the number of trees to be used for predicting the result. \n",
    "<br>**max_features:** The max_features is the number of features that will be used for making a single tree. For eg using \"sqrt\", the tree uses the square root of the number of total features in the data. Using auto is the same as making use of sqrt. The other values can be specifying the int(number of features to be used less than the total features), log, and proportion of the features to be used.\n",
    "<br>**min_samples_leaf:** The minimum number of samples that should be there in leaf node. If the number is less then the leaf node is pruned.\n",
    "<br>**min_samples_split:** The number of samples that should be present in the node for it to be split further.\n",
    "<br>**sub_sample:** The proportion of sample to be used for training individual base learner."
   ]
  },
  {
   "cell_type": "code",
   "execution_count": 81,
   "metadata": {
    "colab": {},
    "colab_type": "code",
    "id": "5ZxcCTSWyLqr"
   },
   "outputs": [],
   "source": [
    "from sklearn.ensemble import GradientBoostingClassifier"
   ]
  },
  {
   "cell_type": "code",
   "execution_count": 82,
   "metadata": {
    "colab": {},
    "colab_type": "code",
    "id": "MXUa55CjzZOC"
   },
   "outputs": [],
   "source": [
    "gbm=GradientBoostingClassifier(random_state=42)"
   ]
  },
  {
   "cell_type": "code",
   "execution_count": 83,
   "metadata": {
    "colab": {},
    "colab_type": "code",
    "id": "9uOYtnem0g5n"
   },
   "outputs": [],
   "source": [
    "param_grid_gbm={'max_features': ['auto','sqrt'],\n",
    "              'n_estimators': [100,200,500],\n",
    "              'subsample':[0.6,0.8,0.9],\n",
    "              'max_depth': [1,5,20,10,50,100],\n",
    "              'min_samples_split':[500,800,1000],\n",
    "              'min_samples_leaf':[10,30,50,100]}"
   ]
  },
  {
   "cell_type": "code",
   "execution_count": 84,
   "metadata": {
    "colab": {},
    "colab_type": "code",
    "id": "abj47tu93wSd"
   },
   "outputs": [],
   "source": [
    "grid_search_gbm=RandomizedSearchCV(estimator=gbm,param_distributions=param_grid_gbm,cv=6,scoring=\"accuracy\",n_iter=100,verbose=1,n_jobs=-1,random_state=42)"
   ]
  },
  {
   "cell_type": "code",
   "execution_count": 85,
   "metadata": {
    "colab": {
     "base_uri": "https://localhost:8080/",
     "height": 571
    },
    "colab_type": "code",
    "id": "NvK208QZziqs",
    "outputId": "f8cab9b0-eb7c-42ff-e476-91bf063c4301"
   },
   "outputs": [
    {
     "name": "stdout",
     "output_type": "stream",
     "text": [
      "Fitting 6 folds for each of 100 candidates, totalling 600 fits\n"
     ]
    },
    {
     "name": "stderr",
     "output_type": "stream",
     "text": [
      "[Parallel(n_jobs=-1)]: Using backend LokyBackend with 4 concurrent workers.\n",
      "[Parallel(n_jobs=-1)]: Done  42 tasks      | elapsed:  4.1min\n",
      "[Parallel(n_jobs=-1)]: Done 192 tasks      | elapsed: 17.0min\n",
      "[Parallel(n_jobs=-1)]: Done 442 tasks      | elapsed: 38.8min\n",
      "[Parallel(n_jobs=-1)]: Done 600 out of 600 | elapsed: 50.9min finished\n"
     ]
    },
    {
     "data": {
      "text/plain": [
       "RandomizedSearchCV(cv=6, error_score='raise-deprecating',\n",
       "          estimator=GradientBoostingClassifier(criterion='friedman_mse', init=None,\n",
       "              learning_rate=0.1, loss='deviance', max_depth=3,\n",
       "              max_features=None, max_leaf_nodes=None,\n",
       "              min_impurity_decrease=0.0, min_impurity_split=None,\n",
       "              min_samples_leaf=1, min_sampl...      subsample=1.0, tol=0.0001, validation_fraction=0.1,\n",
       "              verbose=0, warm_start=False),\n",
       "          fit_params=None, iid='warn', n_iter=100, n_jobs=-1,\n",
       "          param_distributions={'min_samples_split': [500, 800, 1000], 'max_features': ['auto', 'sqrt'], 'n_estimators': [100, 200, 500], 'min_samples_leaf': [10, 30, 50, 100], 'subsample': [0.6, 0.8, 0.9], 'max_depth': [1, 5, 20, 10, 50, 100]},\n",
       "          pre_dispatch='2*n_jobs', random_state=42, refit=True,\n",
       "          return_train_score='warn', scoring='accuracy', verbose=1)"
      ]
     },
     "execution_count": 85,
     "metadata": {},
     "output_type": "execute_result"
    }
   ],
   "source": [
    "grid_search_gbm.fit(X_train,y_train)"
   ]
  },
  {
   "cell_type": "code",
   "execution_count": 86,
   "metadata": {
    "colab": {
     "base_uri": "https://localhost:8080/",
     "height": 303
    },
    "colab_type": "code",
    "id": "AnNA1XV8znZ6",
    "outputId": "207aa396-98e4-4e80-a9ca-925d6c56d21a",
    "scrolled": true
   },
   "outputs": [
    {
     "data": {
      "text/plain": [
       "0.7387189959159279"
      ]
     },
     "execution_count": 86,
     "metadata": {},
     "output_type": "execute_result"
    }
   ],
   "source": [
    "#printing the training accuracy\n",
    "accuracy_score(grid_search_gbm.predict(X_train),y_train)"
   ]
  },
  {
   "cell_type": "code",
   "execution_count": 87,
   "metadata": {
    "colab": {},
    "colab_type": "code",
    "id": "ZxuAxS_xzv3-"
   },
   "outputs": [
    {
     "data": {
      "text/plain": [
       "0.7441794835614506"
      ]
     },
     "execution_count": 87,
     "metadata": {},
     "output_type": "execute_result"
    }
   ],
   "source": [
    "#printing the testing accuracy\n",
    "accuracy_score(grid_search_gbm.predict(X_test),y_test)"
   ]
  },
  {
   "cell_type": "code",
   "execution_count": 88,
   "metadata": {
    "colab": {},
    "colab_type": "code",
    "id": "WTQ4KD4f0B4m"
   },
   "outputs": [
    {
     "name": "stdout",
     "output_type": "stream",
     "text": [
      "              precision    recall  f1-score   support\n",
      "\n",
      "           0       0.72      0.78      0.75      3501\n",
      "           1       0.77      0.71      0.74      3586\n",
      "\n",
      "   micro avg       0.74      0.74      0.74      7087\n",
      "   macro avg       0.75      0.74      0.74      7087\n",
      "weighted avg       0.75      0.74      0.74      7087\n",
      "\n"
     ]
    }
   ],
   "source": [
    "print(classification_report(y_true=y_test,y_pred=grid_search_gbm.predict(X_test)))"
   ]
  },
  {
   "cell_type": "code",
   "execution_count": 89,
   "metadata": {},
   "outputs": [
    {
     "name": "stdout",
     "output_type": "stream",
     "text": [
      "              precision    recall  f1-score   support\n",
      "\n",
      "           0       0.75      0.73      0.74      3501\n",
      "           1       0.74      0.76      0.75      3586\n",
      "\n",
      "   micro avg       0.74      0.74      0.74      7087\n",
      "   macro avg       0.75      0.74      0.74      7087\n",
      "weighted avg       0.74      0.74      0.74      7087\n",
      "\n"
     ]
    }
   ],
   "source": [
    "#Changing the threshold to tune the recall to improve\n",
    "print(classification_report(y_true=y_test,y_pred=(grid_search_gbm.predict_proba(X_test)[:,1]>0.45).astype(int)))"
   ]
  },
  {
   "cell_type": "code",
   "execution_count": 90,
   "metadata": {},
   "outputs": [
    {
     "name": "stdout",
     "output_type": "stream",
     "text": [
      "{'min_samples_split': 1000, 'max_features': 'auto', 'n_estimators': 100, 'min_samples_leaf': 30, 'subsample': 0.6, 'max_depth': 5}\n"
     ]
    }
   ],
   "source": [
    "best_params_gbm=grid_search_gbm.best_params_\n",
    "print(best_params_gbm)"
   ]
  },
  {
   "cell_type": "code",
   "execution_count": 91,
   "metadata": {
    "code_folding": []
   },
   "outputs": [
    {
     "name": "stdout",
     "output_type": "stream",
     "text": [
      "No Skill: ROC AUC=0.500\n",
      "Decision Tree: ROC AUC=0.813\n"
     ]
    },
    {
     "data": {
      "image/png": "[encoded data removed]",
      "text/plain": [
       "<matplotlib.figure.Figure at 0x2189ea42c50>"
      ]
     },
     "metadata": {},
     "output_type": "display_data"
    }
   ],
   "source": [
    "ROC_AUC_curve(model=grid_search_gbm,model_name=\"GBM\")"
   ]
  },
  {
   "cell_type": "code",
   "execution_count": 92,
   "metadata": {},
   "outputs": [
    {
     "data": {
      "image/png": "[encoded data removed]",
      "text/plain": [
       "<matplotlib.figure.Figure at 0x2189ea9e518>"
      ]
     },
     "metadata": {},
     "output_type": "display_data"
    }
   ],
   "source": [
    "plt.figure(figsize=(20,5))\n",
    "feature_importance_gbm=OrderedDict(sorted(zip(X_train.columns,grid_search_gbm.best_estimator_.feature_importances_),reverse=True,key=lambda x:x[1]))\n",
    "sns.barplot(list(feature_importance_gbm.keys())[:10],list(feature_importance_gbm.values())[:10]);"
   ]
  },
  {
   "cell_type": "code",
   "execution_count": 93,
   "metadata": {},
   "outputs": [],
   "source": [
    "# Changing the threshold to get a better recall\n",
    "test_predict_gbm=(grid_search_gbm.predict_proba(test)[:,1]>0.45).astype(int)"
   ]
  },
  {
   "cell_type": "markdown",
   "metadata": {
    "colab": {
     "base_uri": "https://localhost:8080/",
     "height": 178
    },
    "colab_type": "code",
    "id": "r9r879H80YWZ",
    "outputId": "a03bdcab-9764-4a93-d6ec-b904580789f7"
   },
   "source": [
    "### Naive Bayes Classifier"
   ]
  },
  {
   "cell_type": "markdown",
   "metadata": {},
   "source": [
    "Model Tuning:\n",
    "\n",
    "Var_Smoothing is a smoothing parameter that is portion of the largest variance of all features that is added to variances for calculation stability.(as given in the sklearn documentation)"
   ]
  },
  {
   "cell_type": "code",
   "execution_count": 94,
   "metadata": {
    "colab": {},
    "colab_type": "code",
    "id": "ALkuIZ-c0YWe"
   },
   "outputs": [],
   "source": [
    "nb=GaussianNB()"
   ]
  },
  {
   "cell_type": "code",
   "execution_count": 95,
   "metadata": {},
   "outputs": [],
   "source": [
    "param_grid_nb={\"var_smoothing\":[1e-9,.001,.005,.01,.1,.3,.5]}"
   ]
  },
  {
   "cell_type": "code",
   "execution_count": 96,
   "metadata": {},
   "outputs": [],
   "source": [
    "grid_search_nb=GridSearchCV(estimator=nb,param_grid=param_grid_nb,cv=6,scoring=\"accuracy\",verbose=1,n_jobs=-1)"
   ]
  },
  {
   "cell_type": "code",
   "execution_count": 97,
   "metadata": {
    "scrolled": true
   },
   "outputs": [
    {
     "name": "stdout",
     "output_type": "stream",
     "text": [
      "Fitting 6 folds for each of 7 candidates, totalling 42 fits\n"
     ]
    },
    {
     "name": "stderr",
     "output_type": "stream",
     "text": [
      "[Parallel(n_jobs=-1)]: Using backend LokyBackend with 4 concurrent workers.\n",
      "[Parallel(n_jobs=-1)]: Done  42 out of  42 | elapsed:    1.5s finished\n"
     ]
    },
    {
     "data": {
      "text/plain": [
       "GridSearchCV(cv=6, error_score='raise-deprecating',\n",
       "       estimator=GaussianNB(priors=None, var_smoothing=1e-09),\n",
       "       fit_params=None, iid='warn', n_jobs=-1,\n",
       "       param_grid={'var_smoothing': [1e-09, 0.001, 0.005, 0.01, 0.1, 0.3, 0.5]},\n",
       "       pre_dispatch='2*n_jobs', refit=True, return_train_score='warn',\n",
       "       scoring='accuracy', verbose=1)"
      ]
     },
     "execution_count": 97,
     "metadata": {},
     "output_type": "execute_result"
    }
   ],
   "source": [
    "grid_search_nb.fit(X_train,y_train)"
   ]
  },
  {
   "cell_type": "code",
   "execution_count": 98,
   "metadata": {},
   "outputs": [
    {
     "data": {
      "text/plain": [
       "0.6915778463990437"
      ]
     },
     "execution_count": 98,
     "metadata": {},
     "output_type": "execute_result"
    }
   ],
   "source": [
    "#printing the training accuracy\n",
    "accuracy_score(grid_search_nb.predict(X_train),y_train)"
   ]
  },
  {
   "cell_type": "code",
   "execution_count": 99,
   "metadata": {},
   "outputs": [
    {
     "data": {
      "text/plain": [
       "0.7060815577818541"
      ]
     },
     "execution_count": 99,
     "metadata": {},
     "output_type": "execute_result"
    }
   ],
   "source": [
    "#printing the testing accuracy\n",
    "accuracy_score(grid_search_nb.predict(X_test),y_test)"
   ]
  },
  {
   "cell_type": "code",
   "execution_count": 100,
   "metadata": {},
   "outputs": [
    {
     "name": "stdout",
     "output_type": "stream",
     "text": [
      "              precision    recall  f1-score   support\n",
      "\n",
      "           0       0.67      0.80      0.73      3501\n",
      "           1       0.76      0.62      0.68      3586\n",
      "\n",
      "   micro avg       0.71      0.71      0.71      7087\n",
      "   macro avg       0.71      0.71      0.70      7087\n",
      "weighted avg       0.71      0.71      0.70      7087\n",
      "\n"
     ]
    }
   ],
   "source": [
    "print(classification_report(y_true=y_test,y_pred=grid_search_nb.predict(X_test)))"
   ]
  },
  {
   "cell_type": "code",
   "execution_count": 101,
   "metadata": {},
   "outputs": [
    {
     "name": "stdout",
     "output_type": "stream",
     "text": [
      "              precision    recall  f1-score   support\n",
      "\n",
      "           0       0.71      0.70      0.71      3501\n",
      "           1       0.71      0.72      0.72      3586\n",
      "\n",
      "   micro avg       0.71      0.71      0.71      7087\n",
      "   macro avg       0.71      0.71      0.71      7087\n",
      "weighted avg       0.71      0.71      0.71      7087\n",
      "\n"
     ]
    }
   ],
   "source": [
    "#Changing the threshold to tune the recall to improve\n",
    "print(classification_report(y_true=y_test,y_pred=(grid_search_nb.predict_proba(X_test)[:,1]>0.35).astype(int)))"
   ]
  },
  {
   "cell_type": "code",
   "execution_count": 102,
   "metadata": {},
   "outputs": [
    {
     "name": "stdout",
     "output_type": "stream",
     "text": [
      "{'var_smoothing': 0.1}\n"
     ]
    }
   ],
   "source": [
    "best_params_nb=grid_search_nb.best_params_\n",
    "print(best_params_nb)"
   ]
  },
  {
   "cell_type": "code",
   "execution_count": 103,
   "metadata": {
    "code_folding": []
   },
   "outputs": [
    {
     "name": "stdout",
     "output_type": "stream",
     "text": [
      "No Skill: ROC AUC=0.500\n",
      "Decision Tree: ROC AUC=0.779\n"
     ]
    },
    {
     "data": {
      "image/png": "[encoded data removed]",
      "text/plain": [
       "<matplotlib.figure.Figure at 0x2189ee3ff28>"
      ]
     },
     "metadata": {},
     "output_type": "display_data"
    }
   ],
   "source": [
    "ROC_AUC_curve(model=grid_search_nb,model_name=\"Naive Bayes Classifier\")"
   ]
  },
  {
   "cell_type": "code",
   "execution_count": 104,
   "metadata": {},
   "outputs": [],
   "source": [
    "# Changing the threshold to get a better recall\n",
    "test_predict_nb=(grid_search_nb.predict_proba(test)[:,1]>0.35).astype(int)"
   ]
  },
  {
   "cell_type": "markdown",
   "metadata": {},
   "source": [
    "## Prediction and Interpretation"
   ]
  },
  {
   "cell_type": "code",
   "execution_count": 105,
   "metadata": {},
   "outputs": [
    {
     "ename": "SyntaxError",
     "evalue": "unexpected EOF while parsing (<ipython-input-105-2d6da18de95d>, line 2)",
     "output_type": "error",
     "traceback": [
      "\u001b[1;36m  File \u001b[1;32m\"<ipython-input-105-2d6da18de95d>\"\u001b[1;36m, line \u001b[1;32m2\u001b[0m\n\u001b[1;33m    [{i:j} for i,j in best_params_rsvm.items()],[{i:j} for i,j in best_params_rm.items()],[{i:j} for i,j in best_params_gbm.items()]\u001b[0m\n\u001b[1;37m                                                                                                                                    ^\u001b[0m\n\u001b[1;31mSyntaxError\u001b[0m\u001b[1;31m:\u001b[0m unexpected EOF while parsing\n"
     ]
    }
   ],
   "source": [
    "[[{i:j} for i,j in best_params_nb.items()],[{i:j} for i,j in best_params_knn.items()],[{i:j} for i,j in best_params_svm.items()],\n",
    "                                        [{i:j} for i,j in best_params_rsvm.items()],[{i:j} for i,j in best_params_rm.items()],[{i:j} for i,j in best_params_gbm.items()]"
   ]
  },
  {
   "cell_type": "code",
   "execution_count": 177,
   "metadata": {},
   "outputs": [],
   "source": [
    "summary=pd.DataFrame({\"Algorithm\":[\"NBC\",\"KNN\",\"SVM-Linear\",\"SVM-RBF\",\"RF\",\"GBM\"], \"Recall\":[0.62,0.69,0.70,.70,.70,.71],\"Recall after tuning threshold\":[0.72,0.75,\"-\",\"-\",.74,.76],\"Accuracy\":[0.7061,0.7381,0.7392,.7426,.7378,.7441],\n",
    "                      \"Hyperparameters\":[[{i:j} for i,j in best_params_nb.items()],[{i:j} for i,j in best_params_knn.items()],[{i:j} for i,j in best_params_svm.items()],\n",
    "                                        [{i:j} for i,j in best_params_rsvm.items()],[{i:j} for i,j in best_params_rm.items()],[{i:j} for i,j in best_params_gbm.items()]]})"
   ]
  },
  {
   "cell_type": "code",
   "execution_count": 178,
   "metadata": {},
   "outputs": [
    {
     "data": {
      "text/html": [
       "<div>\n",
       "<style scoped>\n",
       "    .dataframe tbody tr th:only-of-type {\n",
       "        vertical-align: middle;\n",
       "    }\n",
       "\n",
       "    .dataframe tbody tr th {\n",
       "        vertical-align: top;\n",
       "    }\n",
       "\n",
       "    .dataframe thead th {\n",
       "        text-align: right;\n",
       "    }\n",
       "</style>\n",
       "<table border=\"1\" class=\"dataframe\">\n",
       "  <thead>\n",
       "    <tr style=\"text-align: right;\">\n",
       "      <th></th>\n",
       "      <th>Accuracy</th>\n",
       "      <th>Algorithm</th>\n",
       "      <th>Hyperparameters</th>\n",
       "      <th>Recall</th>\n",
       "      <th>Recall after tuning threshold</th>\n",
       "    </tr>\n",
       "  </thead>\n",
       "  <tbody>\n",
       "    <tr>\n",
       "      <th>0</th>\n",
       "      <td>0.7061</td>\n",
       "      <td>NBC</td>\n",
       "      <td>[{'var_smoothing': 0.1}]</td>\n",
       "      <td>0.62</td>\n",
       "      <td>0.72</td>\n",
       "    </tr>\n",
       "    <tr>\n",
       "      <th>1</th>\n",
       "      <td>0.7381</td>\n",
       "      <td>KNN</td>\n",
       "      <td>[{'weights': 'uniform'}, {'p': 1}, {'n_neighbo...</td>\n",
       "      <td>0.69</td>\n",
       "      <td>0.75</td>\n",
       "    </tr>\n",
       "    <tr>\n",
       "      <th>2</th>\n",
       "      <td>0.7392</td>\n",
       "      <td>SVM-Linear</td>\n",
       "      <td>[{'C': 0.01}, {'penalty': 'l2'}]</td>\n",
       "      <td>0.70</td>\n",
       "      <td>-</td>\n",
       "    </tr>\n",
       "    <tr>\n",
       "      <th>3</th>\n",
       "      <td>0.7426</td>\n",
       "      <td>SVM-RBF</td>\n",
       "      <td>[{'gamma': 0.1}, {'C': 0.8}]</td>\n",
       "      <td>0.70</td>\n",
       "      <td>-</td>\n",
       "    </tr>\n",
       "    <tr>\n",
       "      <th>4</th>\n",
       "      <td>0.7378</td>\n",
       "      <td>RF</td>\n",
       "      <td>[{'max_features': 'sqrt'}, {'n_estimators': 20...</td>\n",
       "      <td>0.70</td>\n",
       "      <td>0.74</td>\n",
       "    </tr>\n",
       "    <tr>\n",
       "      <th>5</th>\n",
       "      <td>0.7441</td>\n",
       "      <td>GBM</td>\n",
       "      <td>[{'subsample': 0.6}, {'min_samples_split': 100...</td>\n",
       "      <td>0.71</td>\n",
       "      <td>0.76</td>\n",
       "    </tr>\n",
       "  </tbody>\n",
       "</table>\n",
       "</div>"
      ],
      "text/plain": [
       "   Accuracy   Algorithm                                    Hyperparameters  \\\n",
       "0    0.7061         NBC                           [{'var_smoothing': 0.1}]   \n",
       "1    0.7381         KNN  [{'weights': 'uniform'}, {'p': 1}, {'n_neighbo...   \n",
       "2    0.7392  SVM-Linear                   [{'C': 0.01}, {'penalty': 'l2'}]   \n",
       "3    0.7426     SVM-RBF                       [{'gamma': 0.1}, {'C': 0.8}]   \n",
       "4    0.7378          RF  [{'max_features': 'sqrt'}, {'n_estimators': 20...   \n",
       "5    0.7441         GBM  [{'subsample': 0.6}, {'min_samples_split': 100...   \n",
       "\n",
       "   Recall Recall after tuning threshold  \n",
       "0    0.62                          0.72  \n",
       "1    0.69                          0.75  \n",
       "2    0.70                             -  \n",
       "3    0.70                             -  \n",
       "4    0.70                          0.74  \n",
       "5    0.71                          0.76  "
      ]
     },
     "execution_count": 178,
     "metadata": {},
     "output_type": "execute_result"
    }
   ],
   "source": [
    "summary"
   ]
  },
  {
   "cell_type": "markdown",
   "metadata": {},
   "source": [
    "**Interpretation and Conclusion:**\n",
    "\n",
    "**The GBM model has the highest recall after tuning the threshold. The area under the curve is close to 0.8 for all the models which means that the model are not just randomly predicting and the true positive rate is good. The recall was increased after lowering the thresholds which mean that our model is not able to predict some of the positive cases with high confidence. **\n",
    "\n",
    "**All the models have testing accuracy close to the training accuracy which mean that the models are able to generalize the data nicely. Also, it means that the training data and the testing data had similar distributions. So, the performance was the same on both the sets.**\n",
    "\n",
    "**Our svm linear model has a good accuracy in predicting the data so maybe it means that a linear decision boundary could work for separating the classes.**"
   ]
  },
  {
   "cell_type": "code",
   "execution_count": 173,
   "metadata": {},
   "outputs": [],
   "source": [
    "# Creating the columns for all the model predictions and storing them in the dataframe\n",
    "final_prediction[\"NBC\"]=test_predict_nb\n",
    "final_prediction[\"KNN\"]=test_predict_knn\n",
    "final_prediction[\"SVM-Linear\"]=test_predict_svm\n",
    "final_prediction[\"SVM-RBF\"]=test_predict_rsvm\n",
    "final_prediction[\"RF\"]=test_predict_rm\n",
    "final_prediction[\"GBM\"]=test_predict_gbm"
   ]
  },
  {
   "cell_type": "code",
   "execution_count": 174,
   "metadata": {
    "scrolled": true
   },
   "outputs": [],
   "source": [
    "# Storing the final predictions in csv file\n",
    "final_prediction.to_csv(\"test_prediction.csv\",index=False)"
   ]
  },
  {
   "cell_type": "code",
   "execution_count": null,
   "metadata": {},
   "outputs": [],
   "source": []
  }
 ],
 "metadata": {
  "accelerator": "GPU",
  "colab": {
   "name": "Untitled.ipynb",
   "provenance": []
  },
  "kernelspec": {
   "display_name": "Python 3",
   "language": "python",
   "name": "python3"
  },
  "language_info": {
   "codemirror_mode": {
    "name": "ipython",
    "version": 3
   },
   "file_extension": ".py",
   "mimetype": "text/x-python",
   "name": "python",
   "nbconvert_exporter": "python",
   "pygments_lexer": "ipython3",
   "version": "3.5.4"
  }
 },
 "nbformat": 4,
 "nbformat_minor": 1
}
